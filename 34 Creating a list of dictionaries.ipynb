{
 "cells": [
  {
   "cell_type": "code",
   "execution_count": 3,
   "metadata": {},
   "outputs": [
    {
     "data": {
      "text/plain": [
       "[{'customer id': 0,\n",
       "  'first name': 'John',\n",
       "  'last name': 'Ogden',\n",
       "  'address': '301 Arbor Rd.'},\n",
       " {'customer id': 1,\n",
       "  'first name': 'Peter',\n",
       "  'last name': 'ROgden',\n",
       "  'address': '30123 Arbor Rd.'},\n",
       " {'customer id': 2,\n",
       "  'first name': 'Johnyy',\n",
       "  'last name': 'GOgden',\n",
       "  'address': '30144 Arbor Rd.'}]"
      ]
     },
     "execution_count": 3,
     "metadata": {},
     "output_type": "execute_result"
    }
   ],
   "source": [
    "\n",
    "customers = [\n",
    " {\n",
    " \"customer id\": 0,\n",
    " \"first name\":\"John\",\n",
    " \"last name\": \"Ogden\",\n",
    "\"address\": \"301 Arbor Rd.\",\n",
    "},\n",
    "    {\n",
    "    \"customer id\": 1,\n",
    " \"first name\":\"Peter\",\n",
    " \"last name\": \"ROgden\",\n",
    "\"address\": \"30123 Arbor Rd.\",\n",
    "},\n",
    "    {\n",
    "    \"customer id\": 2,\n",
    " \"first name\":\"Johnyy\",\n",
    " \"last name\": \"GOgden\",\n",
    "\"address\": \"30144 Arbor Rd.\",\n",
    "}\n",
    "]\n",
    "customers"
   ]
  },
  {
   "cell_type": "code",
   "execution_count": null,
   "metadata": {},
   "outputs": [],
   "source": []
  },
  {
   "cell_type": "code",
   "execution_count": null,
   "metadata": {},
   "outputs": [],
   "source": []
  }
 ],
 "metadata": {
  "kernelspec": {
   "display_name": "Python 3",
   "language": "python",
   "name": "python3"
  },
  "language_info": {
   "codemirror_mode": {
    "name": "ipython",
    "version": 3
   },
   "file_extension": ".py",
   "mimetype": "text/x-python",
   "name": "python",
   "nbconvert_exporter": "python",
   "pygments_lexer": "ipython3",
   "version": "3.6.5"
  }
 },
 "nbformat": 4,
 "nbformat_minor": 2
}
