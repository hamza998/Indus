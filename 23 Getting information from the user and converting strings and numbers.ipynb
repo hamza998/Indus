{
 "cells": [
  {
   "cell_type": "code",
   "execution_count": 1,
   "metadata": {},
   "outputs": [
    {
     "name": "stdout",
     "output_type": "stream",
     "text": [
      "Enter the name of a city: lahore\n"
     ]
    }
   ],
   "source": [
    "city_to_check = input(\"Enter the name of a city: \")"
   ]
  },
  {
   "cell_type": "code",
   "execution_count": 2,
   "metadata": {},
   "outputs": [
    {
     "name": "stdout",
     "output_type": "stream",
     "text": [
      "What's your name? Hamza\n",
      "Nice to meet you Hamza!\n",
      "Your age? 21\n",
      "So, you are already 21 years old, Hamza!\n"
     ]
    }
   ],
   "source": [
    "name = input(\"What's your name? \")\n",
    "print(\"Nice to meet you \" + name + \"!\")\n",
    "age = input(\"Your age? \")\n",
    "print(\"So, you are already \" + str(age) + \" years old, \" + name + \"!\")"
   ]
  },
  {
   "cell_type": "code",
   "execution_count": 3,
   "metadata": {},
   "outputs": [
    {
     "ename": "SyntaxError",
     "evalue": "EOL while scanning string literal (<ipython-input-3-1e55d28f1686>, line 2)",
     "output_type": "error",
     "traceback": [
      "\u001b[1;36m  File \u001b[1;32m\"<ipython-input-3-1e55d28f1686>\"\u001b[1;36m, line \u001b[1;32m2\u001b[0m\n\u001b[1;33m    What's your name? \"John\"\u001b[0m\n\u001b[1;37m                            ^\u001b[0m\n\u001b[1;31mSyntaxError\u001b[0m\u001b[1;31m:\u001b[0m EOL while scanning string literal\n"
     ]
    }
   ],
   "source": [
    ">>> name = input(\"What's your name? \")\n",
    "What's your name? \"John\"\n",
    ">>>\n",
    ">>> age = input(\"Your age? \")\n",
    "Your age? 38\n",
    ">>> print(age, type(age))\n",
    "(38, <type 'int'>)\n",
    ">>> colours = input(\"Your favourite colours? \")\n",
    "Your favourite colours? [\"red\",\"green\",\"blue\"]\n",
    ">>> print(colours)\n",
    "['red', 'green', 'blue']\n",
    ">>> print(colours, type(colours))\n",
    "(['red', 'green', 'blue'], <type 'list'>)\n",
    ">>> "
   ]
  },
  {
   "cell_type": "code",
   "execution_count": null,
   "metadata": {},
   "outputs": [],
   "source": []
  }
 ],
 "metadata": {
  "kernelspec": {
   "display_name": "Python 3",
   "language": "python",
   "name": "python3"
  },
  "language_info": {
   "codemirror_mode": {
    "name": "ipython",
    "version": 3
   },
   "file_extension": ".py",
   "mimetype": "text/x-python",
   "name": "python",
   "nbconvert_exporter": "python",
   "pygments_lexer": "ipython3",
   "version": "3.6.5"
  }
 },
 "nbformat": 4,
 "nbformat_minor": 2
}
