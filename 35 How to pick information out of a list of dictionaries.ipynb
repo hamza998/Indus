{
 "cells": [
  {
   "cell_type": "code",
   "execution_count": 3,
   "metadata": {},
   "outputs": [
    {
     "data": {
      "text/plain": [
       "'Behari'"
      ]
     },
     "execution_count": 3,
     "metadata": {},
     "output_type": "execute_result"
    }
   ],
   "source": [
    "Students = [ \n",
    "    {\n",
    "        'FirstName': 'Hamza',\n",
    "        'LastName': 'Zaidi',\n",
    "        'ID': '1819'\n",
    "    },\n",
    "    \n",
    "{\n",
    "    'FirstName': 'Farhan Ahmed',\n",
    "    'LastName': 'Behari',\n",
    "    'ID': '2040'\n",
    "},\n",
    "]\n",
    "Students\n",
    "a=Students[1]\n",
    "Students_LastName=a['LastName']\n",
    "Students_LastName"
   ]
  },
  {
   "cell_type": "code",
   "execution_count": null,
   "metadata": {},
   "outputs": [],
   "source": []
  }
 ],
 "metadata": {
  "kernelspec": {
   "display_name": "Python 3",
   "language": "python",
   "name": "python3"
  },
  "language_info": {
   "codemirror_mode": {
    "name": "ipython",
    "version": 3
   },
   "file_extension": ".py",
   "mimetype": "text/x-python",
   "name": "python",
   "nbconvert_exporter": "python",
   "pygments_lexer": "ipython3",
   "version": "3.6.5"
  }
 },
 "nbformat": 4,
 "nbformat_minor": 2
}
