{
  "nbformat": 4,
  "nbformat_minor": 0,
  "metadata": {
    "colab": {
      "name": "HangManGame.ipynb",
      "version": "0.3.2",
      "provenance": [],
      "include_colab_link": true
    },
    "kernelspec": {
      "name": "python3",
      "display_name": "Python 3"
    }
  },
  "cells": [
    {
      "cell_type": "markdown",
      "metadata": {
        "id": "view-in-github",
        "colab_type": "text"
      },
      "source": [
        "<a href=\"https://colab.research.google.com/github/hamza998/Indus/blob/master/HangManGame.ipynb\" target=\"_parent\"><img src=\"https://colab.research.google.com/assets/colab-badge.svg\" alt=\"Open In Colab\"/></a>"
      ]
    },
    {
      "metadata": {
        "id": "_bPrr0OxsVAc",
        "colab_type": "code",
        "colab": {
          "base_uri": "https://localhost:8080/",
          "height": 265
        },
        "outputId": "d3d2e6b5-122a-42ad-b430-5219d597bb07"
      },
      "cell_type": "code",
      "source": [
        "#importing the time module\n",
        "import time\n",
        "\n",
        "#welcoming the user\n",
        "name = input(\"What is your name? \")\n",
        "\n",
        "print (\"Hello, \") + name, (\"Time to play hangman!\")\n",
        "\n",
        "print (\" \")\n",
        "\n",
        "#wait for 1 second\n",
        "time.sleep(1)\n",
        "\n",
        "print (\"Start guessing...\")\n",
        "time.sleep(0.5)\n",
        "\n",
        "#here we set the secret\n",
        "word = \"secret\"\n",
        "\n",
        "#creates an variable with an empty value\n",
        "guesses = ''\n",
        "\n",
        "#determine the number of turns\n",
        "turns = 10\n",
        "\n",
        "# Create a while loop\n",
        "\n",
        "#check if the turns are more than zero\n",
        "while turns > 0:         \n",
        "\n",
        "    # make a counter that starts with zero\n",
        "    failed = 0             \n",
        "\n",
        "    # for every character in secret_word    \n",
        "    for char in word:      \n",
        "\n",
        "    # see if the character is in the players guess\n",
        "        if char in guesses:    \n",
        "    \n",
        "        # print then out the character\n",
        "            print (char),    \n",
        "\n",
        "        else:\n",
        "    \n",
        "        # if not found, print a dash\n",
        "            print (\"_\"),     \n",
        "       \n",
        "        # and increase the failed counter with one\n",
        "            failed += 1    \n",
        "\n",
        "    # if failed is equal to zero\n",
        "\n",
        "    # print You Won\n",
        "    if failed == 0:        \n",
        "        print (\"You won\")  \n",
        "\n",
        "    # exit the script\n",
        "        break              \n",
        "\n",
        "    print\n",
        "\n",
        "    # ask the user go guess a character\n",
        "    guess = raw_input(\"guess a character:\") \n",
        "\n",
        "    # set the players guess to guesses\n",
        "    guesses += guess                    \n",
        "\n",
        "    # if the guess is not found in the secret word\n",
        "    if guess not in word:  \n",
        " \n",
        "     # turns counter decreases with 1 (now 9)\n",
        "        turns -= 1        \n",
        " \n",
        "    # print wrong\n",
        "        print (\"Wrong\")    \n",
        " \n",
        "    # how many turns are left\n",
        "        print (\"You have\"), + turns, ('more guesses') \n",
        " \n",
        "    # if the turns are equal to zero\n",
        "        if turns == 0:           \n",
        "    \n",
        "        # print \"You Loose\"\n",
        "            print (\"You Loose\")"
      ],
      "execution_count": 35,
      "outputs": [
        {
          "output_type": "stream",
          "text": [
            "What is your name? Hamza\n",
            "Hello, \n"
          ],
          "name": "stdout"
        },
        {
          "output_type": "error",
          "ename": "TypeError",
          "evalue": "ignored",
          "traceback": [
            "\u001b[0;31m---------------------------------------------------------------------------\u001b[0m",
            "\u001b[0;31mTypeError\u001b[0m                                 Traceback (most recent call last)",
            "\u001b[0;32m<ipython-input-35-0d6f6edcdfb8>\u001b[0m in \u001b[0;36m<module>\u001b[0;34m()\u001b[0m\n\u001b[1;32m      4\u001b[0m \u001b[0mname\u001b[0m \u001b[0;34m=\u001b[0m \u001b[0minput\u001b[0m\u001b[0;34m(\u001b[0m\u001b[0;34m\"What is your name? \"\u001b[0m\u001b[0;34m)\u001b[0m\u001b[0;34m\u001b[0m\u001b[0m\n\u001b[1;32m      5\u001b[0m \u001b[0;34m\u001b[0m\u001b[0m\n\u001b[0;32m----> 6\u001b[0;31m \u001b[0mprint\u001b[0m \u001b[0;34m(\u001b[0m\u001b[0;34m\"Hello, \"\u001b[0m\u001b[0;34m)\u001b[0m \u001b[0;34m+\u001b[0m \u001b[0mname\u001b[0m\u001b[0;34m,\u001b[0m \u001b[0;34m(\u001b[0m\u001b[0;34m\"Time to play hangman!\"\u001b[0m\u001b[0;34m)\u001b[0m\u001b[0;34m\u001b[0m\u001b[0m\n\u001b[0m\u001b[1;32m      7\u001b[0m \u001b[0;34m\u001b[0m\u001b[0m\n\u001b[1;32m      8\u001b[0m \u001b[0mprint\u001b[0m \u001b[0;34m(\u001b[0m\u001b[0;34m\" \"\u001b[0m\u001b[0;34m)\u001b[0m\u001b[0;34m\u001b[0m\u001b[0m\n",
            "\u001b[0;31mTypeError\u001b[0m: unsupported operand type(s) for +: 'NoneType' and 'str'"
          ]
        }
      ]
    },
    {
      "metadata": {
        "id": "NSUqrZr1siW8",
        "colab_type": "code",
        "colab": {}
      },
      "cell_type": "code",
      "source": [
        ""
      ],
      "execution_count": 0,
      "outputs": []
    }
  ]
}