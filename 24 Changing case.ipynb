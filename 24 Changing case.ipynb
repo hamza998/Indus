{
 "cells": [
  {
   "cell_type": "code",
   "execution_count": 1,
   "metadata": {},
   "outputs": [
    {
     "name": "stdout",
     "output_type": "stream",
     "text": [
      "TREE\n",
      "tree\n"
     ]
    }
   ],
   "source": [
    "value = \"Tree\"\n",
    "\n",
    "# Uppercase the string.\n",
    "x = value.upper()\n",
    "print(x)\n",
    "\n",
    "# Lowercase the string.\n",
    "y = value.lower()\n",
    "print(y)\n"
   ]
  },
  {
   "cell_type": "code",
   "execution_count": 2,
   "metadata": {},
   "outputs": [
    {
     "name": "stdout",
     "output_type": "stream",
     "text": [
      "1\n",
      "True\n",
      "False\n",
      "False\n",
      "True\n"
     ]
    }
   ],
   "source": [
    "value1 = \"ABC123\"\n",
    "value2 = \"abc123\"\n",
    "\n",
    "# Method can be used in an if-statement.\n",
    "if value1.isupper():\n",
    "    print(1)\n",
    "\n",
    "# Call methods on both strings.\n",
    "print(value1.isupper())\n",
    "print(value2.isupper())\n",
    "\n",
    "print(value1.islower())\n",
    "print(value2.islower())"
   ]
  },
  {
   "cell_type": "code",
   "execution_count": null,
   "metadata": {},
   "outputs": [],
   "source": []
  }
 ],
 "metadata": {
  "kernelspec": {
   "display_name": "Python 3",
   "language": "python",
   "name": "python3"
  },
  "language_info": {
   "codemirror_mode": {
    "name": "ipython",
    "version": 3
   },
   "file_extension": ".py",
   "mimetype": "text/x-python",
   "name": "python",
   "nbconvert_exporter": "python",
   "pygments_lexer": "ipython3",
   "version": "3.6.5"
  }
 },
 "nbformat": 4,
 "nbformat_minor": 2
}
